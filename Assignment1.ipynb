{
 "cells": [
  {
   "cell_type": "code",
   "execution_count": 2,
   "metadata": {},
   "outputs": [],
   "source": [
    "## Assignment 1 Intelligent Systems "
   ]
  },
  {
   "cell_type": "code",
   "execution_count": 3,
   "metadata": {},
   "outputs": [
    {
     "ename": "SyntaxError",
     "evalue": "invalid syntax (2459903027.py, line 3)",
     "output_type": "error",
     "traceback": [
      "\u001b[1;36m  Cell \u001b[1;32mIn[3], line 3\u001b[1;36m\u001b[0m\n\u001b[1;33m    - preferences Matrix\u001b[0m\n\u001b[1;37m                  ^\u001b[0m\n\u001b[1;31mSyntaxError\u001b[0m\u001b[1;31m:\u001b[0m invalid syntax\n"
     ]
    }
   ],
   "source": [
    "## Matrixes \n",
    "\n",
    "- preferences Matrix\n",
    "- frienship Matrix\n",
    "- authorship Matrix \n",
    "OUT: \n",
    "Assignment Matrix : \n",
    "Rows Reviewers \n",
    "Cols Papers "
   ]
  },
  {
   "cell_type": "code",
   "execution_count": 12,
   "metadata": {},
   "outputs": [],
   "source": [
    "import pygad\n",
    "import pandas as pd\n",
    "import numpy as np\n",
    "\n",
    "# Load the JSON file into a pandas DataFrame\n"
   ]
  },
  {
   "cell_type": "code",
   "execution_count": 24,
   "metadata": {},
   "outputs": [
    {
     "name": "stdout",
     "output_type": "stream",
     "text": [
      "       preferences      friendships       authorship\n",
      "0  [3, 2, 1, 5, 3]  [0, 0, 0, 0, 0]  [0, 0, 0, 0, 0]\n",
      "1  [5, 2, 4, 2, 2]  [0, 0, 1, 0, 0]  [0, 1, 0, 0, 0]\n",
      "2  [4, 3, 1, 2, 4]  [0, 1, 0, 0, 0]  [0, 0, 0, 0, 0]\n",
      "3  [4, 2, 2, 1, 1]  [0, 0, 0, 0, 0]  [1, 1, 0, 0, 1]\n",
      "4  [4, 3, 4, 1, 5]  [0, 0, 0, 0, 0]  [0, 0, 1, 1, 0]\n",
      "[[0 0 0 0 0]\n",
      " [0 1 0 0 0]\n",
      " [0 0 0 0 0]\n",
      " [1 1 0 0 1]\n",
      " [0 0 1 1 0]]\n",
      "reviewercap: 3\n"
     ]
    }
   ],
   "source": [
    "#  Converting the preference data into an appropriate format \n",
    "\n",
    "\n",
    "df = pd.read_json('easy_dataset_1.json')\n",
    "#First drop unnecessary data and the them into variables \n",
    "num_papers = df.loc[0,\"num_papers\"]\n",
    "df = df.drop(columns=\"num_papers\")\n",
    "num_reviewers = df.loc[0,\"num_reviewers\"]\n",
    "df = df.drop(columns=\"num_reviewers\")\n",
    "reviewer_capacity = df.loc[0,\"reviewer_capacity\"]\n",
    "df = df.drop(columns =\"reviewer_capacity\")\n",
    "min_reviews_per_paper = df.loc[0,\"min_reviews_per_paper\"]\n",
    "df = df.drop(columns=\"min_reviews_per_paper\")\n",
    "max_reviews_per_paper = df.loc[0,\"max_reviews_per_paper\"]\n",
    "df = df.drop(columns=\"max_reviews_per_paper\")\n",
    "df = df.drop(columns=\"dataset_id\")\n",
    "#df.rename(columns={\"dataset_id\" : \"reviewer\"}, inplace=True)\n",
    "#df.rename(index={0: \"reviewer1\", 1: \"reviewer2\", 2: \"reviewer3\", 3: \"reviewer4\", 4: \"reviewer5\"})\n",
    "print(df)\n",
    "\n",
    "\n",
    "#try also with numpy arrays \n",
    "\n",
    "preferences_matrix = np.array(df[\"preferences\"].tolist())\n",
    "friendships_matrix = np.array(df[\"friendships\"].tolist())\n",
    "authorship_matrix = np.array(df[\"authorship\"].tolist())\n",
    "print(authorship_matrix)\n",
    "print(\"reviewercap:\", reviewer_capacity)\n"
   ]
  },
  {
   "cell_type": "code",
   "execution_count": 26,
   "metadata": {},
   "outputs": [
    {
     "name": "stdout",
     "output_type": "stream",
     "text": [
      "[[0 1 1 1 1]\n",
      " [0 0 1 0 0]\n",
      " [0 0 0 0 1]\n",
      " [1 0 0 0 0]\n",
      " [0 0 0 1 0]]\n"
     ]
    }
   ],
   "source": [
    "# Deciding on an effective solution representation\n",
    "# Assignments Reprensation \n",
    "\n",
    "#reviewer x papers 5 x 5 \n",
    "#not sure if numpy is better here but we will work with this \n",
    "\n",
    "assign_matrix = pd.DataFrame(0, index=[f\"Reviewer {i+1}\" for i in range(5)], \n",
    "                                columns=[f\"Paper {j+1}\" for j in range(5)])\n",
    "\n",
    "assign_matrixnp = np.zeros((5,5), dtype= int)\n",
    "assign_matrixnp[0,2] = 1\n",
    "assign_matrixnp[0,3] = 1\n",
    "assign_matrixnp[0,4] = 1\n",
    "assign_matrixnp[0,1] = 1\n",
    "assign_matrixnp[1,2] = 1\n",
    "assign_matrixnp[2,4] = 1\n",
    "assign_matrixnp[3,0] = 1\n",
    "assign_matrixnp[4,3] = 1\n",
    "print(assign_matrixnp)"
   ]
  },
  {
   "cell_type": "code",
   "execution_count": 37,
   "metadata": {},
   "outputs": [
    {
     "name": "stdout",
     "output_type": "stream",
     "text": [
      "penalty\n"
     ]
    },
    {
     "ename": "KeyError",
     "evalue": "(0, 0)",
     "output_type": "error",
     "traceback": [
      "\u001b[1;31m---------------------------------------------------------------------------\u001b[0m",
      "\u001b[1;31mKeyError\u001b[0m                                  Traceback (most recent call last)",
      "File \u001b[1;32mc:\\Users\\noah_\\miniconda3\\envs\\intelsys\\lib\\site-packages\\pandas\\core\\indexes\\base.py:3805\u001b[0m, in \u001b[0;36mIndex.get_loc\u001b[1;34m(self, key)\u001b[0m\n\u001b[0;32m   3804\u001b[0m \u001b[38;5;28;01mtry\u001b[39;00m:\n\u001b[1;32m-> 3805\u001b[0m     \u001b[38;5;28;01mreturn\u001b[39;00m \u001b[38;5;28;43mself\u001b[39;49m\u001b[38;5;241;43m.\u001b[39;49m\u001b[43m_engine\u001b[49m\u001b[38;5;241;43m.\u001b[39;49m\u001b[43mget_loc\u001b[49m\u001b[43m(\u001b[49m\u001b[43mcasted_key\u001b[49m\u001b[43m)\u001b[49m\n\u001b[0;32m   3806\u001b[0m \u001b[38;5;28;01mexcept\u001b[39;00m \u001b[38;5;167;01mKeyError\u001b[39;00m \u001b[38;5;28;01mas\u001b[39;00m err:\n",
      "File \u001b[1;32mindex.pyx:167\u001b[0m, in \u001b[0;36mpandas._libs.index.IndexEngine.get_loc\u001b[1;34m()\u001b[0m\n",
      "File \u001b[1;32mindex.pyx:196\u001b[0m, in \u001b[0;36mpandas._libs.index.IndexEngine.get_loc\u001b[1;34m()\u001b[0m\n",
      "File \u001b[1;32mpandas\\\\_libs\\\\hashtable_class_helper.pxi:7081\u001b[0m, in \u001b[0;36mpandas._libs.hashtable.PyObjectHashTable.get_item\u001b[1;34m()\u001b[0m\n",
      "File \u001b[1;32mpandas\\\\_libs\\\\hashtable_class_helper.pxi:7089\u001b[0m, in \u001b[0;36mpandas._libs.hashtable.PyObjectHashTable.get_item\u001b[1;34m()\u001b[0m\n",
      "\u001b[1;31mKeyError\u001b[0m: (0, 0)",
      "\nThe above exception was the direct cause of the following exception:\n",
      "\u001b[1;31mKeyError\u001b[0m                                  Traceback (most recent call last)",
      "Cell \u001b[1;32mIn[37], line 52\u001b[0m\n\u001b[0;32m     44\u001b[0m                         fit_val\u001b[38;5;241m+\u001b[39m\u001b[38;5;241m=\u001b[39m penalty_friendship\n\u001b[0;32m     50\u001b[0m     \u001b[38;5;28;01mreturn\u001b[39;00m fit_val \n\u001b[1;32m---> 52\u001b[0m \u001b[38;5;28mprint\u001b[39m(\u001b[43mf\u001b[49m\u001b[43m(\u001b[49m\u001b[43massign_matrixnp\u001b[49m\u001b[43m)\u001b[49m)\n\u001b[0;32m     54\u001b[0m \u001b[38;5;28;01mdef\u001b[39;00m \u001b[38;5;21mfitness_function\u001b[39m(ga_instance, solution, solution_idx):\n\u001b[0;32m     55\u001b[0m     \u001b[38;5;28;01mreturn\u001b[39;00m f(solution)[\u001b[38;5;241m0\u001b[39m]   \u001b[38;5;66;03m# solution is a numpy array with length 1. We return it as a scalar value\u001b[39;00m\n",
      "Cell \u001b[1;32mIn[37], line 37\u001b[0m, in \u001b[0;36mf\u001b[1;34m(matrix)\u001b[0m\n\u001b[0;32m     35\u001b[0m     fit_val\u001b[38;5;241m+\u001b[39m\u001b[38;5;241m=\u001b[39m penalty_authorship\n\u001b[0;32m     36\u001b[0m \u001b[38;5;66;03m#friendship penalty \u001b[39;00m\n\u001b[1;32m---> 37\u001b[0m \u001b[38;5;28;01mif\u001b[39;00m \u001b[43massign_matrix\u001b[49m\u001b[43m[\u001b[49m\u001b[43mi\u001b[49m\u001b[43m,\u001b[49m\u001b[43mj\u001b[49m\u001b[43m]\u001b[49m \u001b[38;5;241m==\u001b[39m \u001b[38;5;241m1\u001b[39m: \n\u001b[0;32m     38\u001b[0m     reviewer \u001b[38;5;241m=\u001b[39m i \n\u001b[0;32m     39\u001b[0m     paper \u001b[38;5;241m=\u001b[39m j \n",
      "File \u001b[1;32mc:\\Users\\noah_\\miniconda3\\envs\\intelsys\\lib\\site-packages\\pandas\\core\\frame.py:4102\u001b[0m, in \u001b[0;36mDataFrame.__getitem__\u001b[1;34m(self, key)\u001b[0m\n\u001b[0;32m   4100\u001b[0m \u001b[38;5;28;01mif\u001b[39;00m \u001b[38;5;28mself\u001b[39m\u001b[38;5;241m.\u001b[39mcolumns\u001b[38;5;241m.\u001b[39mnlevels \u001b[38;5;241m>\u001b[39m \u001b[38;5;241m1\u001b[39m:\n\u001b[0;32m   4101\u001b[0m     \u001b[38;5;28;01mreturn\u001b[39;00m \u001b[38;5;28mself\u001b[39m\u001b[38;5;241m.\u001b[39m_getitem_multilevel(key)\n\u001b[1;32m-> 4102\u001b[0m indexer \u001b[38;5;241m=\u001b[39m \u001b[38;5;28;43mself\u001b[39;49m\u001b[38;5;241;43m.\u001b[39;49m\u001b[43mcolumns\u001b[49m\u001b[38;5;241;43m.\u001b[39;49m\u001b[43mget_loc\u001b[49m\u001b[43m(\u001b[49m\u001b[43mkey\u001b[49m\u001b[43m)\u001b[49m\n\u001b[0;32m   4103\u001b[0m \u001b[38;5;28;01mif\u001b[39;00m is_integer(indexer):\n\u001b[0;32m   4104\u001b[0m     indexer \u001b[38;5;241m=\u001b[39m [indexer]\n",
      "File \u001b[1;32mc:\\Users\\noah_\\miniconda3\\envs\\intelsys\\lib\\site-packages\\pandas\\core\\indexes\\base.py:3812\u001b[0m, in \u001b[0;36mIndex.get_loc\u001b[1;34m(self, key)\u001b[0m\n\u001b[0;32m   3807\u001b[0m     \u001b[38;5;28;01mif\u001b[39;00m \u001b[38;5;28misinstance\u001b[39m(casted_key, \u001b[38;5;28mslice\u001b[39m) \u001b[38;5;129;01mor\u001b[39;00m (\n\u001b[0;32m   3808\u001b[0m         \u001b[38;5;28misinstance\u001b[39m(casted_key, abc\u001b[38;5;241m.\u001b[39mIterable)\n\u001b[0;32m   3809\u001b[0m         \u001b[38;5;129;01mand\u001b[39;00m \u001b[38;5;28many\u001b[39m(\u001b[38;5;28misinstance\u001b[39m(x, \u001b[38;5;28mslice\u001b[39m) \u001b[38;5;28;01mfor\u001b[39;00m x \u001b[38;5;129;01min\u001b[39;00m casted_key)\n\u001b[0;32m   3810\u001b[0m     ):\n\u001b[0;32m   3811\u001b[0m         \u001b[38;5;28;01mraise\u001b[39;00m InvalidIndexError(key)\n\u001b[1;32m-> 3812\u001b[0m     \u001b[38;5;28;01mraise\u001b[39;00m \u001b[38;5;167;01mKeyError\u001b[39;00m(key) \u001b[38;5;28;01mfrom\u001b[39;00m \u001b[38;5;21;01merr\u001b[39;00m\n\u001b[0;32m   3813\u001b[0m \u001b[38;5;28;01mexcept\u001b[39;00m \u001b[38;5;167;01mTypeError\u001b[39;00m:\n\u001b[0;32m   3814\u001b[0m     \u001b[38;5;66;03m# If we have a listlike key, _check_indexing_error will raise\u001b[39;00m\n\u001b[0;32m   3815\u001b[0m     \u001b[38;5;66;03m#  InvalidIndexError. Otherwise we fall through and re-raise\u001b[39;00m\n\u001b[0;32m   3816\u001b[0m     \u001b[38;5;66;03m#  the TypeError.\u001b[39;00m\n\u001b[0;32m   3817\u001b[0m     \u001b[38;5;28mself\u001b[39m\u001b[38;5;241m.\u001b[39m_check_indexing_error(key)\n",
      "\u001b[1;31mKeyError\u001b[0m: (0, 0)"
     ]
    }
   ],
   "source": [
    "#compute fitness value in absolute or relative \n",
    "def f(matrix): \n",
    "    fit_val = 0 \n",
    "\n",
    "    \n",
    "    # penalty scores table/distribution\n",
    "    preference_points = np.array([[0,1,2,3,4,5],[3,2,1,0,-1,-2]])\n",
    "    penalty_reviewer_cap = 3\n",
    "    penalty_authorship = 7\n",
    "    penalty_friendship = 5\n",
    "\n",
    "    #iterate over the rows\n",
    "    for i in range(len(assign_matrixnp[:,0])): \n",
    "        #iteratre over the columns \n",
    "        for j in range(len(assign_matrixnp[0,:])): \n",
    "            #print(fit_val)\n",
    "            if assign_matrixnp[i,j] == 1: \n",
    "                 index = preferences_matrix[i,j]\n",
    "                 fit_val += preference_points[1, index]\n",
    "    \n",
    "    # penalties for reviewer constraints violations              \n",
    "    for i in range(len(assign_matrixnp[:,0])): \n",
    "        x = np.sum(assign_matrixnp[i,:])\n",
    "        if x > reviewer_capacity:\n",
    "            fit_val += penalty_reviewer_cap\n",
    "            print(\"penalty\")\n",
    "\n",
    "    # not very efficient like this integrate in other for loop later \n",
    "    # penalties for friendship constraints violation \n",
    "    # iterate over friendships or iterate over assignments -> assignments seems more intuitiv\n",
    "    for i in range(len(assign_matrixnp[:,0])): \n",
    "        for j in range(len(assign_matrixnp[0,:])): \n",
    "            #authorship penalty -> if reviewer assign is also the author give penalty\n",
    "            if assign_matrixnp[i,j] == 1 and authorship_matrix[i,j] ==1:\n",
    "                fit_val+= penalty_authorship\n",
    "            #friendship penalty \n",
    "            if assign_matrix[i,j] == 1: \n",
    "                reviewer = i \n",
    "                paper = j \n",
    "                for y in range(len(assign_matrixnp[0,:])): \n",
    "                    if authorship_matrix[y,j] == 1:\n",
    "                        author = y \n",
    "                    if friendship_matrix[y,i] == 1: \n",
    "                        fit_val+= penalty_friendship\n",
    "    return fit_val \n",
    "\n",
    "print(f(assign_matrixnp))\n",
    "\n",
    "def fitness_function(ga_instance, solution, solution_idx):\n",
    "    return f(solution)[0]   # solution is a numpy array with length 1. We return it as a scalar value\n",
    "\n"
   ]
  },
  {
   "cell_type": "code",
   "execution_count": null,
   "metadata": {},
   "outputs": [],
   "source": []
  }
 ],
 "metadata": {
  "kernelspec": {
   "display_name": "intelsys",
   "language": "python",
   "name": "python3"
  },
  "language_info": {
   "codemirror_mode": {
    "name": "ipython",
    "version": 3
   },
   "file_extension": ".py",
   "mimetype": "text/x-python",
   "name": "python",
   "nbconvert_exporter": "python",
   "pygments_lexer": "ipython3",
   "version": "3.9.20"
  }
 },
 "nbformat": 4,
 "nbformat_minor": 2
}
